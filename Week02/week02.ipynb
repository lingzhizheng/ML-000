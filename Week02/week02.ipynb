{
  "nbformat": 4,
  "nbformat_minor": 0,
  "metadata": {
    "colab": {
      "name": "week02.ipynb",
      "provenance": [],
      "collapsed_sections": [],
      "toc_visible": true
    },
    "kernelspec": {
      "name": "python3",
      "display_name": "Python 3"
    }
  },
  "cells": [
    {
      "cell_type": "markdown",
      "metadata": {
        "id": "4kgvgBE3_BT6"
      },
      "source": [
        "# 环境安装"
      ]
    },
    {
      "cell_type": "code",
      "metadata": {
        "id": "66fdAjAh_JM1"
      },
      "source": [
        "!pip install ray\n",
        "!pip install cython\n",
        "!pip install line_profiler"
      ],
      "execution_count": null,
      "outputs": []
    },
    {
      "cell_type": "markdown",
      "metadata": {
        "id": "ls61TORz-1-Z"
      },
      "source": [
        "# 代码实现"
      ]
    },
    {
      "cell_type": "code",
      "metadata": {
        "id": "umxLTmcGDgJh"
      },
      "source": [
        "import numpy as np\n",
        "import pandas as pd\n",
        "\n",
        "y = np.random.randint(2, size=(5000, 1))\n",
        "x = np.random.randint(10, size=(5000, 1))\n",
        "data = pd.DataFrame(np.concatenate([y, x], axis=1), columns=['y', 'x'])"
      ],
      "execution_count": 2,
      "outputs": []
    },
    {
      "cell_type": "code",
      "metadata": {
        "id": "fh6_hA4vR8yX"
      },
      "source": [
        "def target_mean_v1(data, y_name, x_name):\n",
        "    result = np.zeros(data.shape[0])\n",
        "    for i in range(data.shape[0]):\n",
        "        groupby_result = data[data.index != i].groupby([x_name], as_index=False).agg(['mean', 'count'])\n",
        "        result[i] = groupby_result.loc[groupby_result.index == data.loc[i, x_name], (y_name, 'mean')]\n",
        "    return result"
      ],
      "execution_count": 3,
      "outputs": []
    },
    {
      "cell_type": "code",
      "metadata": {
        "id": "M7V83FMyDYp2"
      },
      "source": [
        "%%timeit\n",
        "target_mean_v1(data,'y','x')"
      ],
      "execution_count": null,
      "outputs": []
    },
    {
      "cell_type": "code",
      "metadata": {
        "id": "ANsOuOv6PINb"
      },
      "source": [
        "from cProfile import Profile\n",
        "prof = Profile()\n",
        "prof.enable()\n",
        "target_mean_v1(data,'y','x')\n",
        "prof.create_stats()\n",
        "prof.print_stats()"
      ],
      "execution_count": null,
      "outputs": []
    },
    {
      "cell_type": "code",
      "metadata": {
        "id": "h4vbKXHMPOAI"
      },
      "source": [
        "from line_profiler import LineProfiler\n",
        "profile = LineProfiler(target_mean_v1)\n",
        "profile.enable()\n",
        "target_mean_v1(data, 'y', 'x')\n",
        "profile.disable()\n",
        "profile.print_stats()"
      ],
      "execution_count": null,
      "outputs": []
    },
    {
      "cell_type": "code",
      "metadata": {
        "id": "BerUjtU8OsDz"
      },
      "source": [
        "def target_mean_v2(data, y_name, x_name):\n",
        "    result = np.zeros(data.shape[0])\n",
        "    value_dict = dict()\n",
        "    count_dict = dict()\n",
        "    for i in range(data.shape[0]):\n",
        "        if data.loc[i, x_name] not in value_dict.keys():\n",
        "            value_dict[data.loc[i, x_name]] = data.loc[i, y_name]\n",
        "            count_dict[data.loc[i, x_name]] = 1\n",
        "        else:\n",
        "            value_dict[data.loc[i, x_name]] += data.loc[i, y_name]\n",
        "            count_dict[data.loc[i, x_name]] += 1\n",
        "    for i in range(data.shape[0]):\n",
        "        result[i] = (value_dict[data.loc[i, x_name]] - data.loc[i, y_name]) / (count_dict[data.loc[i, x_name]] - 1)\n",
        "    return result"
      ],
      "execution_count": 4,
      "outputs": []
    },
    {
      "cell_type": "code",
      "metadata": {
        "id": "OTFhZ9zgD0ng"
      },
      "source": [
        "%%timeit\n",
        "target_mean_v2(data,'y','x')"
      ],
      "execution_count": null,
      "outputs": []
    },
    {
      "cell_type": "code",
      "metadata": {
        "id": "zgVnpuYhRLBZ"
      },
      "source": [
        "from line_profiler import LineProfiler\n",
        "profile = LineProfiler(target_mean_v2)\n",
        "profile.enable()\n",
        "target_mean_v2(data, 'y', 'x')\n",
        "profile.disable()\n",
        "profile.print_stats()"
      ],
      "execution_count": null,
      "outputs": []
    },
    {
      "cell_type": "code",
      "metadata": {
        "id": "7NwNXxv6AuFZ"
      },
      "source": [
        "%load_ext Cython"
      ],
      "execution_count": 6,
      "outputs": []
    },
    {
      "cell_type": "code",
      "metadata": {
        "id": "CyZKPNRv9wtl"
      },
      "source": [
        "%%cython\n",
        "# cython: profile=True\n",
        "\n",
        "import numpy as np\n",
        "import pandas as pd\n",
        "cimport numpy as np\n",
        "\n",
        "def target_mean_v3(data, y_name, x_name):\n",
        "\n",
        "    result = np.zeros(data.shape[0])\n",
        "    value_dict = dict()\n",
        "    count_dict = dict()\n",
        "    x_data = data.loc[:,x_name]\n",
        "    y_data = data.loc[:,y_name]\n",
        "    for i in range(data.shape[0]):\n",
        "        if x_data[i] not in value_dict.keys():\n",
        "            value_dict[x_data[i]] = y_data[i]\n",
        "            count_dict[x_data[i]] = 1\n",
        "        else:\n",
        "            value_dict[x_data[i]] += y_data[i]\n",
        "            count_dict[x_data[i]] += 1\n",
        "    for i in range(data.shape[0]):\n",
        "        result[i] = (value_dict[x_data[i]] - y_data[i]) / (count_dict[x_data[i]] - 1)\n",
        "    return result"
      ],
      "execution_count": 16,
      "outputs": []
    },
    {
      "cell_type": "code",
      "metadata": {
        "colab": {
          "base_uri": "https://localhost:8080/"
        },
        "id": "r9RLBHFEEYBI",
        "outputId": "35d69dc5-991a-47c2-886b-6911a187f0b3"
      },
      "source": [
        "%%timeit\n",
        "target_mean_v3(data,'y','x')"
      ],
      "execution_count": 19,
      "outputs": [
        {
          "output_type": "stream",
          "text": [
            "10 loops, best of 3: 124 ms per loop\n"
          ],
          "name": "stdout"
        }
      ]
    },
    {
      "cell_type": "code",
      "metadata": {
        "id": "F7ISDIgwS299"
      },
      "source": [
        "from cProfile import Profile\n",
        "prof = Profile()\n",
        "prof.enable()\n",
        "target_mean_v3(data,'y','x')\n",
        "prof.create_stats()\n",
        "prof.print_stats()"
      ],
      "execution_count": null,
      "outputs": []
    },
    {
      "cell_type": "code",
      "metadata": {
        "colab": {
          "base_uri": "https://localhost:8080/"
        },
        "id": "V2q_aWr9Xms7",
        "outputId": "2dbcdf92-d606-4f24-930a-cade58d9f30f"
      },
      "source": [
        "%prun -l 7 -s cumulative target_mean_v3(data, 'y', 'x')"
      ],
      "execution_count": 21,
      "outputs": [
        {
          "output_type": "stream",
          "text": [
            " "
          ],
          "name": "stdout"
        }
      ]
    },
    {
      "cell_type": "code",
      "metadata": {
        "id": "0AYJXFA-bIT4"
      },
      "source": [
        "def target_mean_v4(data, y_name, x_name):\n",
        "    result = np.zeros(data.shape[0])\n",
        "    value_dict = dict()\n",
        "    count_dict = dict()\n",
        "    x_data = data.loc[:,x_name]\n",
        "    y_data = data.loc[:,y_name]\n",
        "    for i in range(data.shape[0]):\n",
        "        if x_data[i] not in value_dict.keys():\n",
        "            value_dict[x_data[i]] = y_data[i]\n",
        "            count_dict[x_data[i]] = 1\n",
        "        else:\n",
        "            value_dict[x_data[i]] += y_data[i]\n",
        "            count_dict[x_data[i]] += 1\n",
        "    for i in range(data.shape[0]):\n",
        "        result[i] = (value_dict[x_data[i]] - y_data[i]) / (count_dict[x_data[i]] - 1)\n",
        "    return result"
      ],
      "execution_count": 13,
      "outputs": []
    },
    {
      "cell_type": "code",
      "metadata": {
        "colab": {
          "base_uri": "https://localhost:8080/"
        },
        "id": "9oYYRpXzf_SF",
        "outputId": "a58e4046-ced2-4e60-8a76-f998c42ec47c"
      },
      "source": [
        "%%timeit\n",
        "target_mean_v4(data,'y','x')"
      ],
      "execution_count": 14,
      "outputs": [
        {
          "output_type": "stream",
          "text": [
            "10 loops, best of 3: 125 ms per loop\n"
          ],
          "name": "stdout"
        }
      ]
    },
    {
      "cell_type": "code",
      "metadata": {
        "id": "mHPd3Qm9bUk2"
      },
      "source": [
        "from line_profiler import LineProfiler\n",
        "profile = LineProfiler(target_mean_v4)\n",
        "profile.enable()\n",
        "target_mean_v4(data, 'y', 'x')\n",
        "profile.disable()\n",
        "profile.print_stats()"
      ],
      "execution_count": null,
      "outputs": []
    },
    {
      "cell_type": "markdown",
      "metadata": {
        "id": "6EPTJWXiwxkA"
      },
      "source": [
        "# 性能分析器\n",
        "\n",
        "\n"
      ]
    },
    {
      "cell_type": "markdown",
      "metadata": {
        "id": "dwM18AhDxhFb"
      },
      "source": [
        "## cProfile\n",
        "\n",
        "\n",
        "\n",
        "* ncalls：函数被调用的次数。如果这一列有两个值，就表示有递归调用，第二个值是原生调用次数，第一个值是总调用次数。\n",
        "* tottime：函数内部消耗的总时间。\n",
        "* percall：是tottime除以ncalls，一个函数每次调用平均消耗时间。\n",
        "* cumtime：之前所有子函数消费时间的累计和。\n",
        "* filename:lineno(function)：被分析函数所在文件名、行号、函数名。\n",
        "\n"
      ]
    },
    {
      "cell_type": "code",
      "metadata": {
        "id": "RUrSPnobX08X"
      },
      "source": [
        "from cProfile import Profile\n",
        "prof = Profile()\n",
        "prof.enable()\n",
        "target_mean_v3(data,'y','x')\n",
        "prof.create_stats()\n",
        "prof.print_stats()"
      ],
      "execution_count": null,
      "outputs": []
    },
    {
      "cell_type": "markdown",
      "metadata": {
        "id": "nhD40uKyxo4W"
      },
      "source": [
        "## line_profile\n",
        "* Line：文件中的行号。\n",
        "* Hits：性能分析时代码执行的次数。\n",
        "* Time：一段代码执行的总时间，由计数器决定。\n",
        "* Per Hit：执行一段代码平均消耗时间。\n",
        "* % Time：执行一段代码时间消耗比例。"
      ]
    },
    {
      "cell_type": "code",
      "metadata": {
        "id": "uzB8Yd5ewLmp"
      },
      "source": [
        "from line_profiler import LineProfiler\n",
        "profile = LineProfiler(target_mean_v3)  #把函数传递到性能分析器\n",
        "profile.enable()  #开始分析\n",
        "target_mean_v3(data, 'y', 'x')\n",
        "profile.disable()  #停止分析\n",
        "profile.print_stats()  #打印出性能分析结果"
      ],
      "execution_count": null,
      "outputs": []
    },
    {
      "cell_type": "markdown",
      "metadata": {
        "id": "a2d7ERpYyg_I"
      },
      "source": [
        "# 参考内容\n",
        "* todo"
      ]
    }
  ]
}